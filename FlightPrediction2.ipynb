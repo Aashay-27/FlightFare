{
 "cells": [
  {
   "cell_type": "code",
   "execution_count": 2,
   "id": "c081f118-8fb5-419c-9f5d-a064d26acc66",
   "metadata": {},
   "outputs": [],
   "source": [
    "import pandas as pd\n",
    "train_df=pd.read_excel(r\"C:\\Users\\aasha\\Downloads\\Data_Train.xlsx\")"
   ]
  },
  {
   "cell_type": "code",
   "execution_count": 3,
   "id": "ce5a79e5-4fc1-4398-b1ac-b816fe653dc6",
   "metadata": {},
   "outputs": [],
   "source": [
    "test_df=pd.read_excel(r\"C:\\Users\\aasha\\Downloads\\Test_set.xlsx\")"
   ]
  },
  {
   "cell_type": "code",
   "execution_count": 4,
   "id": "ab96d314-6180-4dd8-b745-bfb175f6b304",
   "metadata": {},
   "outputs": [
    {
     "data": {
      "text/html": [
       "<div>\n",
       "<style scoped>\n",
       "    .dataframe tbody tr th:only-of-type {\n",
       "        vertical-align: middle;\n",
       "    }\n",
       "\n",
       "    .dataframe tbody tr th {\n",
       "        vertical-align: top;\n",
       "    }\n",
       "\n",
       "    .dataframe thead th {\n",
       "        text-align: right;\n",
       "    }\n",
       "</style>\n",
       "<table border=\"1\" class=\"dataframe\">\n",
       "  <thead>\n",
       "    <tr style=\"text-align: right;\">\n",
       "      <th></th>\n",
       "      <th>Airline</th>\n",
       "      <th>Date_of_Journey</th>\n",
       "      <th>Source</th>\n",
       "      <th>Destination</th>\n",
       "      <th>Route</th>\n",
       "      <th>Dep_Time</th>\n",
       "      <th>Arrival_Time</th>\n",
       "      <th>Duration</th>\n",
       "      <th>Total_Stops</th>\n",
       "      <th>Additional_Info</th>\n",
       "      <th>Price</th>\n",
       "    </tr>\n",
       "  </thead>\n",
       "  <tbody>\n",
       "    <tr>\n",
       "      <th>0</th>\n",
       "      <td>IndiGo</td>\n",
       "      <td>24/03/2019</td>\n",
       "      <td>Banglore</td>\n",
       "      <td>New Delhi</td>\n",
       "      <td>BLR → DEL</td>\n",
       "      <td>22:20</td>\n",
       "      <td>01:10 22 Mar</td>\n",
       "      <td>2h 50m</td>\n",
       "      <td>non-stop</td>\n",
       "      <td>No info</td>\n",
       "      <td>3897</td>\n",
       "    </tr>\n",
       "  </tbody>\n",
       "</table>\n",
       "</div>"
      ],
      "text/plain": [
       "  Airline Date_of_Journey    Source Destination      Route Dep_Time  \\\n",
       "0  IndiGo      24/03/2019  Banglore   New Delhi  BLR → DEL    22:20   \n",
       "\n",
       "   Arrival_Time Duration Total_Stops Additional_Info  Price  \n",
       "0  01:10 22 Mar   2h 50m    non-stop         No info   3897  "
      ]
     },
     "execution_count": 4,
     "metadata": {},
     "output_type": "execute_result"
    }
   ],
   "source": [
    "train_df.head(1)"
   ]
  },
  {
   "cell_type": "code",
   "execution_count": 5,
   "id": "acf8363e-ce62-4a61-ad9b-ea440e7238ad",
   "metadata": {},
   "outputs": [
    {
     "data": {
      "text/html": [
       "<div>\n",
       "<style scoped>\n",
       "    .dataframe tbody tr th:only-of-type {\n",
       "        vertical-align: middle;\n",
       "    }\n",
       "\n",
       "    .dataframe tbody tr th {\n",
       "        vertical-align: top;\n",
       "    }\n",
       "\n",
       "    .dataframe thead th {\n",
       "        text-align: right;\n",
       "    }\n",
       "</style>\n",
       "<table border=\"1\" class=\"dataframe\">\n",
       "  <thead>\n",
       "    <tr style=\"text-align: right;\">\n",
       "      <th></th>\n",
       "      <th>Airline</th>\n",
       "      <th>Date_of_Journey</th>\n",
       "      <th>Source</th>\n",
       "      <th>Destination</th>\n",
       "      <th>Route</th>\n",
       "      <th>Dep_Time</th>\n",
       "      <th>Arrival_Time</th>\n",
       "      <th>Duration</th>\n",
       "      <th>Total_Stops</th>\n",
       "      <th>Additional_Info</th>\n",
       "    </tr>\n",
       "  </thead>\n",
       "  <tbody>\n",
       "    <tr>\n",
       "      <th>0</th>\n",
       "      <td>Jet Airways</td>\n",
       "      <td>6/06/2019</td>\n",
       "      <td>Delhi</td>\n",
       "      <td>Cochin</td>\n",
       "      <td>DEL → BOM → COK</td>\n",
       "      <td>17:30</td>\n",
       "      <td>04:25 07 Jun</td>\n",
       "      <td>10h 55m</td>\n",
       "      <td>1 stop</td>\n",
       "      <td>No info</td>\n",
       "    </tr>\n",
       "  </tbody>\n",
       "</table>\n",
       "</div>"
      ],
      "text/plain": [
       "       Airline Date_of_Journey Source Destination            Route Dep_Time  \\\n",
       "0  Jet Airways       6/06/2019  Delhi      Cochin  DEL → BOM → COK    17:30   \n",
       "\n",
       "   Arrival_Time Duration Total_Stops Additional_Info  \n",
       "0  04:25 07 Jun  10h 55m      1 stop         No info  "
      ]
     },
     "execution_count": 5,
     "metadata": {},
     "output_type": "execute_result"
    }
   ],
   "source": [
    "test_df.head(1)"
   ]
  },
  {
   "cell_type": "code",
   "execution_count": 6,
   "id": "4bbbe692-ba07-41a9-a9a9-6b177e89ed55",
   "metadata": {},
   "outputs": [],
   "source": [
    "train_lists=train_df.to_dict(orient='records')\n",
    "test_lists=test_df.to_dict(orient='records')"
   ]
  },
  {
   "cell_type": "code",
   "execution_count": 7,
   "id": "414bb9b4-cf8c-4c70-920a-19719b249f4e",
   "metadata": {},
   "outputs": [],
   "source": [
    "combined_lists=train_lists + test_lists"
   ]
  },
  {
   "cell_type": "code",
   "execution_count": 8,
   "id": "47617e53-c0e8-4262-9c52-773aed0e9675",
   "metadata": {},
   "outputs": [],
   "source": [
    "final_df=pd.DataFrame(combined_lists)"
   ]
  },
  {
   "cell_type": "code",
   "execution_count": 9,
   "id": "088f7b8a-f0b2-4ee6-a34a-d6afe4397dce",
   "metadata": {},
   "outputs": [
    {
     "data": {
      "text/html": [
       "<div>\n",
       "<style scoped>\n",
       "    .dataframe tbody tr th:only-of-type {\n",
       "        vertical-align: middle;\n",
       "    }\n",
       "\n",
       "    .dataframe tbody tr th {\n",
       "        vertical-align: top;\n",
       "    }\n",
       "\n",
       "    .dataframe thead th {\n",
       "        text-align: right;\n",
       "    }\n",
       "</style>\n",
       "<table border=\"1\" class=\"dataframe\">\n",
       "  <thead>\n",
       "    <tr style=\"text-align: right;\">\n",
       "      <th></th>\n",
       "      <th>Airline</th>\n",
       "      <th>Date_of_Journey</th>\n",
       "      <th>Source</th>\n",
       "      <th>Destination</th>\n",
       "      <th>Route</th>\n",
       "      <th>Dep_Time</th>\n",
       "      <th>Arrival_Time</th>\n",
       "      <th>Duration</th>\n",
       "      <th>Total_Stops</th>\n",
       "      <th>Additional_Info</th>\n",
       "      <th>Price</th>\n",
       "    </tr>\n",
       "  </thead>\n",
       "  <tbody>\n",
       "    <tr>\n",
       "      <th>13352</th>\n",
       "      <td>Air India</td>\n",
       "      <td>6/03/2019</td>\n",
       "      <td>Delhi</td>\n",
       "      <td>Cochin</td>\n",
       "      <td>DEL → BOM → COK</td>\n",
       "      <td>04:00</td>\n",
       "      <td>19:15</td>\n",
       "      <td>15h 15m</td>\n",
       "      <td>1 stop</td>\n",
       "      <td>No info</td>\n",
       "      <td>NaN</td>\n",
       "    </tr>\n",
       "    <tr>\n",
       "      <th>13353</th>\n",
       "      <td>Multiple carriers</td>\n",
       "      <td>15/06/2019</td>\n",
       "      <td>Delhi</td>\n",
       "      <td>Cochin</td>\n",
       "      <td>DEL → BOM → COK</td>\n",
       "      <td>04:55</td>\n",
       "      <td>19:15</td>\n",
       "      <td>14h 20m</td>\n",
       "      <td>1 stop</td>\n",
       "      <td>No info</td>\n",
       "      <td>NaN</td>\n",
       "    </tr>\n",
       "  </tbody>\n",
       "</table>\n",
       "</div>"
      ],
      "text/plain": [
       "                 Airline Date_of_Journey Source Destination            Route  \\\n",
       "13352          Air India       6/03/2019  Delhi      Cochin  DEL → BOM → COK   \n",
       "13353  Multiple carriers      15/06/2019  Delhi      Cochin  DEL → BOM → COK   \n",
       "\n",
       "      Dep_Time Arrival_Time Duration Total_Stops Additional_Info  Price  \n",
       "13352    04:00        19:15  15h 15m      1 stop         No info    NaN  \n",
       "13353    04:55        19:15  14h 20m      1 stop         No info    NaN  "
      ]
     },
     "execution_count": 9,
     "metadata": {},
     "output_type": "execute_result"
    }
   ],
   "source": [
    "final_df.tail(2)"
   ]
  },
  {
   "cell_type": "code",
   "execution_count": 10,
   "id": "0cd98576-f6ec-48f5-8f64-bae6179ed311",
   "metadata": {},
   "outputs": [
    {
     "data": {
      "text/plain": [
       "0        03\n",
       "1        05\n",
       "2        06\n",
       "3        05\n",
       "4        03\n",
       "         ..\n",
       "13349    06\n",
       "13350    03\n",
       "13351    03\n",
       "13352    03\n",
       "13353    06\n",
       "Name: Date_of_Journey, Length: 13354, dtype: object"
      ]
     },
     "execution_count": 10,
     "metadata": {},
     "output_type": "execute_result"
    }
   ],
   "source": [
    "final_df['Date_of_Journey'].str.split('/').str[1]"
   ]
  },
  {
   "cell_type": "code",
   "execution_count": 11,
   "id": "65e0dc87-e0ee-4cb4-8581-ebe61f374a70",
   "metadata": {},
   "outputs": [],
   "source": [
    "final_df['Date']=final_df['Date_of_Journey'].str.split('/').str[0]\n",
    "final_df['Month']=final_df['Date_of_Journey'].str.split('/').str[1]\n",
    "final_df['Year']=final_df['Date_of_Journey'].str.split('/').str[2]"
   ]
  },
  {
   "cell_type": "code",
   "execution_count": 12,
   "id": "fb18948d-7b7f-49cf-990d-06c20556472c",
   "metadata": {},
   "outputs": [
    {
     "data": {
      "text/html": [
       "<div>\n",
       "<style scoped>\n",
       "    .dataframe tbody tr th:only-of-type {\n",
       "        vertical-align: middle;\n",
       "    }\n",
       "\n",
       "    .dataframe tbody tr th {\n",
       "        vertical-align: top;\n",
       "    }\n",
       "\n",
       "    .dataframe thead th {\n",
       "        text-align: right;\n",
       "    }\n",
       "</style>\n",
       "<table border=\"1\" class=\"dataframe\">\n",
       "  <thead>\n",
       "    <tr style=\"text-align: right;\">\n",
       "      <th></th>\n",
       "      <th>Airline</th>\n",
       "      <th>Date_of_Journey</th>\n",
       "      <th>Source</th>\n",
       "      <th>Destination</th>\n",
       "      <th>Route</th>\n",
       "      <th>Dep_Time</th>\n",
       "      <th>Arrival_Time</th>\n",
       "      <th>Duration</th>\n",
       "      <th>Total_Stops</th>\n",
       "      <th>Additional_Info</th>\n",
       "      <th>Price</th>\n",
       "      <th>Date</th>\n",
       "      <th>Month</th>\n",
       "      <th>Year</th>\n",
       "    </tr>\n",
       "  </thead>\n",
       "  <tbody>\n",
       "    <tr>\n",
       "      <th>0</th>\n",
       "      <td>IndiGo</td>\n",
       "      <td>24/03/2019</td>\n",
       "      <td>Banglore</td>\n",
       "      <td>New Delhi</td>\n",
       "      <td>BLR → DEL</td>\n",
       "      <td>22:20</td>\n",
       "      <td>01:10 22 Mar</td>\n",
       "      <td>2h 50m</td>\n",
       "      <td>non-stop</td>\n",
       "      <td>No info</td>\n",
       "      <td>3897.0</td>\n",
       "      <td>24</td>\n",
       "      <td>03</td>\n",
       "      <td>2019</td>\n",
       "    </tr>\n",
       "    <tr>\n",
       "      <th>1</th>\n",
       "      <td>Air India</td>\n",
       "      <td>1/05/2019</td>\n",
       "      <td>Kolkata</td>\n",
       "      <td>Banglore</td>\n",
       "      <td>CCU → IXR → BBI → BLR</td>\n",
       "      <td>05:50</td>\n",
       "      <td>13:15</td>\n",
       "      <td>7h 25m</td>\n",
       "      <td>2 stops</td>\n",
       "      <td>No info</td>\n",
       "      <td>7662.0</td>\n",
       "      <td>1</td>\n",
       "      <td>05</td>\n",
       "      <td>2019</td>\n",
       "    </tr>\n",
       "  </tbody>\n",
       "</table>\n",
       "</div>"
      ],
      "text/plain": [
       "     Airline Date_of_Journey    Source Destination                  Route  \\\n",
       "0     IndiGo      24/03/2019  Banglore   New Delhi              BLR → DEL   \n",
       "1  Air India       1/05/2019   Kolkata    Banglore  CCU → IXR → BBI → BLR   \n",
       "\n",
       "  Dep_Time  Arrival_Time Duration Total_Stops Additional_Info   Price Date  \\\n",
       "0    22:20  01:10 22 Mar   2h 50m    non-stop         No info  3897.0   24   \n",
       "1    05:50         13:15   7h 25m     2 stops         No info  7662.0    1   \n",
       "\n",
       "  Month  Year  \n",
       "0    03  2019  \n",
       "1    05  2019  "
      ]
     },
     "execution_count": 12,
     "metadata": {},
     "output_type": "execute_result"
    }
   ],
   "source": [
    "final_df.head(2)"
   ]
  },
  {
   "cell_type": "code",
   "execution_count": 13,
   "id": "2451f1bf-102f-4248-8cf4-d81c537945d3",
   "metadata": {},
   "outputs": [],
   "source": [
    "final_df.drop('Date_of_Journey',axis=1,inplace=True)"
   ]
  },
  {
   "cell_type": "code",
   "execution_count": 14,
   "id": "894eaae0-bd31-4dae-9443-5932ceb2ab9f",
   "metadata": {},
   "outputs": [],
   "source": [
    "final_df['Dep_hour']=final_df['Dep_Time'].str.split(':').str[0]"
   ]
  },
  {
   "cell_type": "code",
   "execution_count": 15,
   "id": "d26ab23e-2259-48a2-9af5-4c6f7ef55953",
   "metadata": {},
   "outputs": [],
   "source": [
    "final_df['Dep_min']=final_df['Dep_Time'].str.split(':').str[1]"
   ]
  },
  {
   "cell_type": "code",
   "execution_count": 16,
   "id": "5e6c99bc-55c8-415b-88d1-6b22c43166bd",
   "metadata": {},
   "outputs": [],
   "source": [
    "final_df['Arrival_hour']=final_df['Arrival_Time'].str.split(':').str[0]"
   ]
  },
  {
   "cell_type": "code",
   "execution_count": 17,
   "id": "02650917-5bcf-4498-8808-a6aeac153449",
   "metadata": {},
   "outputs": [
    {
     "data": {
      "text/plain": [
       "0        10\n",
       "1        15\n",
       "2        25\n",
       "3        30\n",
       "4        35\n",
       "         ..\n",
       "13349    25\n",
       "13350    55\n",
       "13351    25\n",
       "13352    15\n",
       "13353    15\n",
       "Name: Arrival_Time, Length: 13354, dtype: object"
      ]
     },
     "execution_count": 17,
     "metadata": {},
     "output_type": "execute_result"
    }
   ],
   "source": [
    "final_df['Arrival_Time'].str.split(':').str[1].str.split(' ').str[0]"
   ]
  },
  {
   "cell_type": "code",
   "execution_count": 18,
   "id": "024eb6b0-598d-4829-93e7-38d5b2acb849",
   "metadata": {},
   "outputs": [],
   "source": [
    "final_df['Arrival_min']=final_df['Arrival_Time'].str.split(':').str[1].str.split(' ').str[0]"
   ]
  },
  {
   "cell_type": "code",
   "execution_count": 19,
   "id": "ac96373b-7ddf-4beb-b0fd-c86b3c27b41b",
   "metadata": {},
   "outputs": [
    {
     "data": {
      "text/html": [
       "<div>\n",
       "<style scoped>\n",
       "    .dataframe tbody tr th:only-of-type {\n",
       "        vertical-align: middle;\n",
       "    }\n",
       "\n",
       "    .dataframe tbody tr th {\n",
       "        vertical-align: top;\n",
       "    }\n",
       "\n",
       "    .dataframe thead th {\n",
       "        text-align: right;\n",
       "    }\n",
       "</style>\n",
       "<table border=\"1\" class=\"dataframe\">\n",
       "  <thead>\n",
       "    <tr style=\"text-align: right;\">\n",
       "      <th></th>\n",
       "      <th>Airline</th>\n",
       "      <th>Source</th>\n",
       "      <th>Destination</th>\n",
       "      <th>Route</th>\n",
       "      <th>Dep_Time</th>\n",
       "      <th>Arrival_Time</th>\n",
       "      <th>Duration</th>\n",
       "      <th>Total_Stops</th>\n",
       "      <th>Additional_Info</th>\n",
       "      <th>Price</th>\n",
       "      <th>Date</th>\n",
       "      <th>Month</th>\n",
       "      <th>Year</th>\n",
       "      <th>Dep_hour</th>\n",
       "      <th>Dep_min</th>\n",
       "      <th>Arrival_hour</th>\n",
       "      <th>Arrival_min</th>\n",
       "    </tr>\n",
       "  </thead>\n",
       "  <tbody>\n",
       "    <tr>\n",
       "      <th>0</th>\n",
       "      <td>IndiGo</td>\n",
       "      <td>Banglore</td>\n",
       "      <td>New Delhi</td>\n",
       "      <td>BLR → DEL</td>\n",
       "      <td>22:20</td>\n",
       "      <td>01:10 22 Mar</td>\n",
       "      <td>2h 50m</td>\n",
       "      <td>non-stop</td>\n",
       "      <td>No info</td>\n",
       "      <td>3897.0</td>\n",
       "      <td>24</td>\n",
       "      <td>03</td>\n",
       "      <td>2019</td>\n",
       "      <td>22</td>\n",
       "      <td>20</td>\n",
       "      <td>01</td>\n",
       "      <td>10</td>\n",
       "    </tr>\n",
       "    <tr>\n",
       "      <th>1</th>\n",
       "      <td>Air India</td>\n",
       "      <td>Kolkata</td>\n",
       "      <td>Banglore</td>\n",
       "      <td>CCU → IXR → BBI → BLR</td>\n",
       "      <td>05:50</td>\n",
       "      <td>13:15</td>\n",
       "      <td>7h 25m</td>\n",
       "      <td>2 stops</td>\n",
       "      <td>No info</td>\n",
       "      <td>7662.0</td>\n",
       "      <td>1</td>\n",
       "      <td>05</td>\n",
       "      <td>2019</td>\n",
       "      <td>05</td>\n",
       "      <td>50</td>\n",
       "      <td>13</td>\n",
       "      <td>15</td>\n",
       "    </tr>\n",
       "  </tbody>\n",
       "</table>\n",
       "</div>"
      ],
      "text/plain": [
       "     Airline    Source Destination                  Route Dep_Time  \\\n",
       "0     IndiGo  Banglore   New Delhi              BLR → DEL    22:20   \n",
       "1  Air India   Kolkata    Banglore  CCU → IXR → BBI → BLR    05:50   \n",
       "\n",
       "   Arrival_Time Duration Total_Stops Additional_Info   Price Date Month  Year  \\\n",
       "0  01:10 22 Mar   2h 50m    non-stop         No info  3897.0   24    03  2019   \n",
       "1         13:15   7h 25m     2 stops         No info  7662.0    1    05  2019   \n",
       "\n",
       "  Dep_hour Dep_min Arrival_hour Arrival_min  \n",
       "0       22      20           01          10  \n",
       "1       05      50           13          15  "
      ]
     },
     "execution_count": 19,
     "metadata": {},
     "output_type": "execute_result"
    }
   ],
   "source": [
    "final_df.head(2)"
   ]
  },
  {
   "cell_type": "code",
   "execution_count": 20,
   "id": "be40563b-a043-411a-8be8-5d876fd2ac96",
   "metadata": {},
   "outputs": [
    {
     "data": {
      "text/plain": [
       "array(['non-stop', '2 stops', '1 stop', '3 stops', nan, '4 stops'],\n",
       "      dtype=object)"
      ]
     },
     "execution_count": 20,
     "metadata": {},
     "output_type": "execute_result"
    }
   ],
   "source": [
    "final_df['Total_Stops'].unique()"
   ]
  },
  {
   "cell_type": "code",
   "execution_count": 21,
   "id": "b45b7087-e93c-4b24-8005-4ec334055c26",
   "metadata": {},
   "outputs": [],
   "source": [
    "final_df['Total_Stops']=final_df['Total_Stops'].map({'non-stop':0, '2 stops':2, '1 stop':1, '3 stops':3, 'nan':1, '4 stops':4})"
   ]
  },
  {
   "cell_type": "code",
   "execution_count": 22,
   "id": "85024503-6ff7-4c4e-b584-7d2b3976f561",
   "metadata": {},
   "outputs": [
    {
     "data": {
      "text/html": [
       "<div>\n",
       "<style scoped>\n",
       "    .dataframe tbody tr th:only-of-type {\n",
       "        vertical-align: middle;\n",
       "    }\n",
       "\n",
       "    .dataframe tbody tr th {\n",
       "        vertical-align: top;\n",
       "    }\n",
       "\n",
       "    .dataframe thead th {\n",
       "        text-align: right;\n",
       "    }\n",
       "</style>\n",
       "<table border=\"1\" class=\"dataframe\">\n",
       "  <thead>\n",
       "    <tr style=\"text-align: right;\">\n",
       "      <th></th>\n",
       "      <th>Airline</th>\n",
       "      <th>Source</th>\n",
       "      <th>Destination</th>\n",
       "      <th>Route</th>\n",
       "      <th>Dep_Time</th>\n",
       "      <th>Arrival_Time</th>\n",
       "      <th>Duration</th>\n",
       "      <th>Total_Stops</th>\n",
       "      <th>Additional_Info</th>\n",
       "      <th>Price</th>\n",
       "      <th>Date</th>\n",
       "      <th>Month</th>\n",
       "      <th>Year</th>\n",
       "      <th>Dep_hour</th>\n",
       "      <th>Dep_min</th>\n",
       "      <th>Arrival_hour</th>\n",
       "      <th>Arrival_min</th>\n",
       "    </tr>\n",
       "  </thead>\n",
       "  <tbody>\n",
       "    <tr>\n",
       "      <th>0</th>\n",
       "      <td>IndiGo</td>\n",
       "      <td>Banglore</td>\n",
       "      <td>New Delhi</td>\n",
       "      <td>BLR → DEL</td>\n",
       "      <td>22:20</td>\n",
       "      <td>01:10 22 Mar</td>\n",
       "      <td>2h 50m</td>\n",
       "      <td>0.0</td>\n",
       "      <td>No info</td>\n",
       "      <td>3897.0</td>\n",
       "      <td>24</td>\n",
       "      <td>03</td>\n",
       "      <td>2019</td>\n",
       "      <td>22</td>\n",
       "      <td>20</td>\n",
       "      <td>01</td>\n",
       "      <td>10</td>\n",
       "    </tr>\n",
       "    <tr>\n",
       "      <th>1</th>\n",
       "      <td>Air India</td>\n",
       "      <td>Kolkata</td>\n",
       "      <td>Banglore</td>\n",
       "      <td>CCU → IXR → BBI → BLR</td>\n",
       "      <td>05:50</td>\n",
       "      <td>13:15</td>\n",
       "      <td>7h 25m</td>\n",
       "      <td>2.0</td>\n",
       "      <td>No info</td>\n",
       "      <td>7662.0</td>\n",
       "      <td>1</td>\n",
       "      <td>05</td>\n",
       "      <td>2019</td>\n",
       "      <td>05</td>\n",
       "      <td>50</td>\n",
       "      <td>13</td>\n",
       "      <td>15</td>\n",
       "    </tr>\n",
       "    <tr>\n",
       "      <th>2</th>\n",
       "      <td>Jet Airways</td>\n",
       "      <td>Delhi</td>\n",
       "      <td>Cochin</td>\n",
       "      <td>DEL → LKO → BOM → COK</td>\n",
       "      <td>09:25</td>\n",
       "      <td>04:25 10 Jun</td>\n",
       "      <td>19h</td>\n",
       "      <td>2.0</td>\n",
       "      <td>No info</td>\n",
       "      <td>13882.0</td>\n",
       "      <td>9</td>\n",
       "      <td>06</td>\n",
       "      <td>2019</td>\n",
       "      <td>09</td>\n",
       "      <td>25</td>\n",
       "      <td>04</td>\n",
       "      <td>25</td>\n",
       "    </tr>\n",
       "    <tr>\n",
       "      <th>3</th>\n",
       "      <td>IndiGo</td>\n",
       "      <td>Kolkata</td>\n",
       "      <td>Banglore</td>\n",
       "      <td>CCU → NAG → BLR</td>\n",
       "      <td>18:05</td>\n",
       "      <td>23:30</td>\n",
       "      <td>5h 25m</td>\n",
       "      <td>1.0</td>\n",
       "      <td>No info</td>\n",
       "      <td>6218.0</td>\n",
       "      <td>12</td>\n",
       "      <td>05</td>\n",
       "      <td>2019</td>\n",
       "      <td>18</td>\n",
       "      <td>05</td>\n",
       "      <td>23</td>\n",
       "      <td>30</td>\n",
       "    </tr>\n",
       "    <tr>\n",
       "      <th>4</th>\n",
       "      <td>IndiGo</td>\n",
       "      <td>Banglore</td>\n",
       "      <td>New Delhi</td>\n",
       "      <td>BLR → NAG → DEL</td>\n",
       "      <td>16:50</td>\n",
       "      <td>21:35</td>\n",
       "      <td>4h 45m</td>\n",
       "      <td>1.0</td>\n",
       "      <td>No info</td>\n",
       "      <td>13302.0</td>\n",
       "      <td>01</td>\n",
       "      <td>03</td>\n",
       "      <td>2019</td>\n",
       "      <td>16</td>\n",
       "      <td>50</td>\n",
       "      <td>21</td>\n",
       "      <td>35</td>\n",
       "    </tr>\n",
       "  </tbody>\n",
       "</table>\n",
       "</div>"
      ],
      "text/plain": [
       "       Airline    Source Destination                  Route Dep_Time  \\\n",
       "0       IndiGo  Banglore   New Delhi              BLR → DEL    22:20   \n",
       "1    Air India   Kolkata    Banglore  CCU → IXR → BBI → BLR    05:50   \n",
       "2  Jet Airways     Delhi      Cochin  DEL → LKO → BOM → COK    09:25   \n",
       "3       IndiGo   Kolkata    Banglore        CCU → NAG → BLR    18:05   \n",
       "4       IndiGo  Banglore   New Delhi        BLR → NAG → DEL    16:50   \n",
       "\n",
       "   Arrival_Time Duration  Total_Stops Additional_Info    Price Date Month  \\\n",
       "0  01:10 22 Mar   2h 50m          0.0         No info   3897.0   24    03   \n",
       "1         13:15   7h 25m          2.0         No info   7662.0    1    05   \n",
       "2  04:25 10 Jun      19h          2.0         No info  13882.0    9    06   \n",
       "3         23:30   5h 25m          1.0         No info   6218.0   12    05   \n",
       "4         21:35   4h 45m          1.0         No info  13302.0   01    03   \n",
       "\n",
       "   Year Dep_hour Dep_min Arrival_hour Arrival_min  \n",
       "0  2019       22      20           01          10  \n",
       "1  2019       05      50           13          15  \n",
       "2  2019       09      25           04          25  \n",
       "3  2019       18      05           23          30  \n",
       "4  2019       16      50           21          35  "
      ]
     },
     "execution_count": 22,
     "metadata": {},
     "output_type": "execute_result"
    }
   ],
   "source": [
    "final_df.head()"
   ]
  },
  {
   "cell_type": "code",
   "execution_count": 23,
   "id": "af1f6c38-753b-437b-8f8f-f50e7f711dc8",
   "metadata": {},
   "outputs": [],
   "source": [
    "final_df['Duration_hour']=final_df['Duration'].str.split(' ').str[0].str.split('h').str[0]"
   ]
  },
  {
   "cell_type": "code",
   "execution_count": 24,
   "id": "e44ee7a7-8aeb-42cd-a643-8ee80de68b48",
   "metadata": {},
   "outputs": [],
   "source": [
    "final_df['Duration_minute']=final_df['Duration'].str.split(' ').str[1].str.split('m').str[0]"
   ]
  },
  {
   "cell_type": "code",
   "execution_count": 25,
   "id": "b950abfb-0451-447f-bdeb-c76dd09969d2",
   "metadata": {},
   "outputs": [
    {
     "data": {
      "text/plain": [
       "1286"
      ]
     },
     "execution_count": 25,
     "metadata": {},
     "output_type": "execute_result"
    }
   ],
   "source": [
    "final_df['Duration_minute'].isnull().sum()"
   ]
  },
  {
   "cell_type": "code",
   "execution_count": 26,
   "id": "4b410c56-a883-4726-8f45-803476a435d5",
   "metadata": {},
   "outputs": [],
   "source": [
    "final_df['Duration_minute'].fillna(0,inplace=True)"
   ]
  },
  {
   "cell_type": "code",
   "execution_count": 27,
   "id": "f6e7ad92-6fc1-456e-899d-8189ef3fe1db",
   "metadata": {},
   "outputs": [
    {
     "data": {
      "text/plain": [
       "0"
      ]
     },
     "execution_count": 27,
     "metadata": {},
     "output_type": "execute_result"
    }
   ],
   "source": [
    "final_df['Duration_minute'].isnull().sum()"
   ]
  },
  {
   "cell_type": "code",
   "execution_count": 28,
   "id": "1f484bd8-8ce6-4ad5-b360-239e7c5a8074",
   "metadata": {},
   "outputs": [
    {
     "data": {
      "text/plain": [
       "0        50\n",
       "1        25\n",
       "2         0\n",
       "3        25\n",
       "4        45\n",
       "         ..\n",
       "13349    55\n",
       "13350    35\n",
       "13351    35\n",
       "13352    15\n",
       "13353    20\n",
       "Name: Duration_minute, Length: 13354, dtype: int32"
      ]
     },
     "execution_count": 28,
     "metadata": {},
     "output_type": "execute_result"
    }
   ],
   "source": [
    "final_df['Duration_minute'].astype(int)"
   ]
  },
  {
   "cell_type": "code",
   "execution_count": 29,
   "id": "f128ba33-b67e-400f-9350-a70295698099",
   "metadata": {},
   "outputs": [],
   "source": [
    "final_df = final_df[final_df['Duration'] != '5m']"
   ]
  },
  {
   "cell_type": "code",
   "execution_count": 30,
   "id": "b0c44684-564f-4af3-ab1a-155d9287aa60",
   "metadata": {},
   "outputs": [
    {
     "data": {
      "text/plain": [
       "0         2\n",
       "1         7\n",
       "2        19\n",
       "3         5\n",
       "4         4\n",
       "         ..\n",
       "13349    23\n",
       "13350     2\n",
       "13351     6\n",
       "13352    15\n",
       "13353    14\n",
       "Name: Duration_hour, Length: 13352, dtype: int32"
      ]
     },
     "execution_count": 30,
     "metadata": {},
     "output_type": "execute_result"
    }
   ],
   "source": [
    "final_df['Duration_hour'].astype(int)"
   ]
  },
  {
   "cell_type": "code",
   "execution_count": 31,
   "id": "3af19b50-d4f9-4162-8463-7cdb8a7a4d19",
   "metadata": {},
   "outputs": [],
   "source": [
    "final_df['Duration_hour'] = final_df['Duration_hour'].astype(int)\n",
    "final_df['Duration_minute'] = final_df['Duration_minute'].astype(int)"
   ]
  },
  {
   "cell_type": "code",
   "execution_count": 32,
   "id": "12096da0-83ec-4118-aadd-6c9803a54c82",
   "metadata": {},
   "outputs": [],
   "source": [
    "final_df['Duration_min']=final_df['Duration_hour']*60 + final_df['Duration_minute']"
   ]
  },
  {
   "cell_type": "code",
   "execution_count": 33,
   "id": "f3db04a2-dcd4-4ffa-a7bd-07a0608634a5",
   "metadata": {},
   "outputs": [
    {
     "data": {
      "text/html": [
       "<div>\n",
       "<style scoped>\n",
       "    .dataframe tbody tr th:only-of-type {\n",
       "        vertical-align: middle;\n",
       "    }\n",
       "\n",
       "    .dataframe tbody tr th {\n",
       "        vertical-align: top;\n",
       "    }\n",
       "\n",
       "    .dataframe thead th {\n",
       "        text-align: right;\n",
       "    }\n",
       "</style>\n",
       "<table border=\"1\" class=\"dataframe\">\n",
       "  <thead>\n",
       "    <tr style=\"text-align: right;\">\n",
       "      <th></th>\n",
       "      <th>Airline</th>\n",
       "      <th>Source</th>\n",
       "      <th>Destination</th>\n",
       "      <th>Route</th>\n",
       "      <th>Dep_Time</th>\n",
       "      <th>Arrival_Time</th>\n",
       "      <th>Duration</th>\n",
       "      <th>Total_Stops</th>\n",
       "      <th>Additional_Info</th>\n",
       "      <th>Price</th>\n",
       "      <th>Date</th>\n",
       "      <th>Month</th>\n",
       "      <th>Year</th>\n",
       "      <th>Dep_hour</th>\n",
       "      <th>Dep_min</th>\n",
       "      <th>Arrival_hour</th>\n",
       "      <th>Arrival_min</th>\n",
       "      <th>Duration_hour</th>\n",
       "      <th>Duration_minute</th>\n",
       "      <th>Duration_min</th>\n",
       "    </tr>\n",
       "  </thead>\n",
       "  <tbody>\n",
       "    <tr>\n",
       "      <th>0</th>\n",
       "      <td>IndiGo</td>\n",
       "      <td>Banglore</td>\n",
       "      <td>New Delhi</td>\n",
       "      <td>BLR → DEL</td>\n",
       "      <td>22:20</td>\n",
       "      <td>01:10 22 Mar</td>\n",
       "      <td>2h 50m</td>\n",
       "      <td>0.0</td>\n",
       "      <td>No info</td>\n",
       "      <td>3897.0</td>\n",
       "      <td>24</td>\n",
       "      <td>03</td>\n",
       "      <td>2019</td>\n",
       "      <td>22</td>\n",
       "      <td>20</td>\n",
       "      <td>01</td>\n",
       "      <td>10</td>\n",
       "      <td>2</td>\n",
       "      <td>50</td>\n",
       "      <td>170</td>\n",
       "    </tr>\n",
       "    <tr>\n",
       "      <th>1</th>\n",
       "      <td>Air India</td>\n",
       "      <td>Kolkata</td>\n",
       "      <td>Banglore</td>\n",
       "      <td>CCU → IXR → BBI → BLR</td>\n",
       "      <td>05:50</td>\n",
       "      <td>13:15</td>\n",
       "      <td>7h 25m</td>\n",
       "      <td>2.0</td>\n",
       "      <td>No info</td>\n",
       "      <td>7662.0</td>\n",
       "      <td>1</td>\n",
       "      <td>05</td>\n",
       "      <td>2019</td>\n",
       "      <td>05</td>\n",
       "      <td>50</td>\n",
       "      <td>13</td>\n",
       "      <td>15</td>\n",
       "      <td>7</td>\n",
       "      <td>25</td>\n",
       "      <td>445</td>\n",
       "    </tr>\n",
       "    <tr>\n",
       "      <th>2</th>\n",
       "      <td>Jet Airways</td>\n",
       "      <td>Delhi</td>\n",
       "      <td>Cochin</td>\n",
       "      <td>DEL → LKO → BOM → COK</td>\n",
       "      <td>09:25</td>\n",
       "      <td>04:25 10 Jun</td>\n",
       "      <td>19h</td>\n",
       "      <td>2.0</td>\n",
       "      <td>No info</td>\n",
       "      <td>13882.0</td>\n",
       "      <td>9</td>\n",
       "      <td>06</td>\n",
       "      <td>2019</td>\n",
       "      <td>09</td>\n",
       "      <td>25</td>\n",
       "      <td>04</td>\n",
       "      <td>25</td>\n",
       "      <td>19</td>\n",
       "      <td>0</td>\n",
       "      <td>1140</td>\n",
       "    </tr>\n",
       "  </tbody>\n",
       "</table>\n",
       "</div>"
      ],
      "text/plain": [
       "       Airline    Source Destination                  Route Dep_Time  \\\n",
       "0       IndiGo  Banglore   New Delhi              BLR → DEL    22:20   \n",
       "1    Air India   Kolkata    Banglore  CCU → IXR → BBI → BLR    05:50   \n",
       "2  Jet Airways     Delhi      Cochin  DEL → LKO → BOM → COK    09:25   \n",
       "\n",
       "   Arrival_Time Duration  Total_Stops Additional_Info    Price Date Month  \\\n",
       "0  01:10 22 Mar   2h 50m          0.0         No info   3897.0   24    03   \n",
       "1         13:15   7h 25m          2.0         No info   7662.0    1    05   \n",
       "2  04:25 10 Jun      19h          2.0         No info  13882.0    9    06   \n",
       "\n",
       "   Year Dep_hour Dep_min Arrival_hour Arrival_min  Duration_hour  \\\n",
       "0  2019       22      20           01          10              2   \n",
       "1  2019       05      50           13          15              7   \n",
       "2  2019       09      25           04          25             19   \n",
       "\n",
       "   Duration_minute  Duration_min  \n",
       "0               50           170  \n",
       "1               25           445  \n",
       "2                0          1140  "
      ]
     },
     "execution_count": 33,
     "metadata": {},
     "output_type": "execute_result"
    }
   ],
   "source": [
    "final_df.head(3)"
   ]
  },
  {
   "cell_type": "code",
   "execution_count": 34,
   "id": "4e9b8172-6793-446e-8ea0-9bd7a397729f",
   "metadata": {},
   "outputs": [],
   "source": [
    "final_df.drop('Dep_Time',axis=1,inplace=True)"
   ]
  },
  {
   "cell_type": "code",
   "execution_count": 35,
   "id": "bf39317b-994f-4611-bb10-44f07688f609",
   "metadata": {},
   "outputs": [],
   "source": [
    "final_df.drop('Arrival_Time',axis=1,inplace=True)"
   ]
  },
  {
   "cell_type": "code",
   "execution_count": 36,
   "id": "b04eb208-e6c2-4f64-bf25-5a6eb93c2685",
   "metadata": {},
   "outputs": [],
   "source": [
    "final_df.drop('Duration',axis=1,inplace=True)"
   ]
  },
  {
   "cell_type": "code",
   "execution_count": 37,
   "id": "d5d744d3-e0fa-4f03-8826-d712f9b6de77",
   "metadata": {},
   "outputs": [],
   "source": [
    "final_df.drop('Duration_hour',axis=1,inplace=True)"
   ]
  },
  {
   "cell_type": "code",
   "execution_count": 38,
   "id": "8089e08c-30fd-4e49-8359-218351b4e20b",
   "metadata": {},
   "outputs": [],
   "source": [
    "final_df.drop('Duration_minute',axis=1,inplace=True)"
   ]
  },
  {
   "cell_type": "code",
   "execution_count": 39,
   "id": "32bee67d-902b-4a1b-99f8-3f755f2e9a7f",
   "metadata": {},
   "outputs": [
    {
     "data": {
      "text/html": [
       "<div>\n",
       "<style scoped>\n",
       "    .dataframe tbody tr th:only-of-type {\n",
       "        vertical-align: middle;\n",
       "    }\n",
       "\n",
       "    .dataframe tbody tr th {\n",
       "        vertical-align: top;\n",
       "    }\n",
       "\n",
       "    .dataframe thead th {\n",
       "        text-align: right;\n",
       "    }\n",
       "</style>\n",
       "<table border=\"1\" class=\"dataframe\">\n",
       "  <thead>\n",
       "    <tr style=\"text-align: right;\">\n",
       "      <th></th>\n",
       "      <th>Airline</th>\n",
       "      <th>Source</th>\n",
       "      <th>Destination</th>\n",
       "      <th>Route</th>\n",
       "      <th>Total_Stops</th>\n",
       "      <th>Additional_Info</th>\n",
       "      <th>Price</th>\n",
       "      <th>Date</th>\n",
       "      <th>Month</th>\n",
       "      <th>Year</th>\n",
       "      <th>Dep_hour</th>\n",
       "      <th>Dep_min</th>\n",
       "      <th>Arrival_hour</th>\n",
       "      <th>Arrival_min</th>\n",
       "      <th>Duration_min</th>\n",
       "    </tr>\n",
       "  </thead>\n",
       "  <tbody>\n",
       "    <tr>\n",
       "      <th>0</th>\n",
       "      <td>IndiGo</td>\n",
       "      <td>Banglore</td>\n",
       "      <td>New Delhi</td>\n",
       "      <td>BLR → DEL</td>\n",
       "      <td>0.0</td>\n",
       "      <td>No info</td>\n",
       "      <td>3897.0</td>\n",
       "      <td>24</td>\n",
       "      <td>03</td>\n",
       "      <td>2019</td>\n",
       "      <td>22</td>\n",
       "      <td>20</td>\n",
       "      <td>01</td>\n",
       "      <td>10</td>\n",
       "      <td>170</td>\n",
       "    </tr>\n",
       "    <tr>\n",
       "      <th>1</th>\n",
       "      <td>Air India</td>\n",
       "      <td>Kolkata</td>\n",
       "      <td>Banglore</td>\n",
       "      <td>CCU → IXR → BBI → BLR</td>\n",
       "      <td>2.0</td>\n",
       "      <td>No info</td>\n",
       "      <td>7662.0</td>\n",
       "      <td>1</td>\n",
       "      <td>05</td>\n",
       "      <td>2019</td>\n",
       "      <td>05</td>\n",
       "      <td>50</td>\n",
       "      <td>13</td>\n",
       "      <td>15</td>\n",
       "      <td>445</td>\n",
       "    </tr>\n",
       "    <tr>\n",
       "      <th>2</th>\n",
       "      <td>Jet Airways</td>\n",
       "      <td>Delhi</td>\n",
       "      <td>Cochin</td>\n",
       "      <td>DEL → LKO → BOM → COK</td>\n",
       "      <td>2.0</td>\n",
       "      <td>No info</td>\n",
       "      <td>13882.0</td>\n",
       "      <td>9</td>\n",
       "      <td>06</td>\n",
       "      <td>2019</td>\n",
       "      <td>09</td>\n",
       "      <td>25</td>\n",
       "      <td>04</td>\n",
       "      <td>25</td>\n",
       "      <td>1140</td>\n",
       "    </tr>\n",
       "  </tbody>\n",
       "</table>\n",
       "</div>"
      ],
      "text/plain": [
       "       Airline    Source Destination                  Route  Total_Stops  \\\n",
       "0       IndiGo  Banglore   New Delhi              BLR → DEL          0.0   \n",
       "1    Air India   Kolkata    Banglore  CCU → IXR → BBI → BLR          2.0   \n",
       "2  Jet Airways     Delhi      Cochin  DEL → LKO → BOM → COK          2.0   \n",
       "\n",
       "  Additional_Info    Price Date Month  Year Dep_hour Dep_min Arrival_hour  \\\n",
       "0         No info   3897.0   24    03  2019       22      20           01   \n",
       "1         No info   7662.0    1    05  2019       05      50           13   \n",
       "2         No info  13882.0    9    06  2019       09      25           04   \n",
       "\n",
       "  Arrival_min  Duration_min  \n",
       "0          10           170  \n",
       "1          15           445  \n",
       "2          25          1140  "
      ]
     },
     "execution_count": 39,
     "metadata": {},
     "output_type": "execute_result"
    }
   ],
   "source": [
    "final_df.head(3)"
   ]
  },
  {
   "cell_type": "code",
   "execution_count": 40,
   "id": "eab1747a-bae1-4511-a411-a53f06db9899",
   "metadata": {},
   "outputs": [],
   "source": [
    "from sklearn.preprocessing import LabelEncoder\n",
    "labelencoder=LabelEncoder()\n"
   ]
  },
  {
   "cell_type": "code",
   "execution_count": 41,
   "id": "4e35fd6a-c606-4444-9a52-9ba8bef47370",
   "metadata": {},
   "outputs": [],
   "source": [
    "final_df['Airline']=labelencoder.fit_transform(final_df['Airline'])"
   ]
  },
  {
   "cell_type": "code",
   "execution_count": 42,
   "id": "c6a304eb-2a51-4746-bb7b-a185f1831906",
   "metadata": {},
   "outputs": [
    {
     "data": {
      "text/plain": [
       "array(['Banglore', 'Kolkata', 'Delhi', 'Chennai', 'Mumbai'], dtype=object)"
      ]
     },
     "execution_count": 42,
     "metadata": {},
     "output_type": "execute_result"
    }
   ],
   "source": [
    "final_df['Source'].unique()"
   ]
  },
  {
   "cell_type": "code",
   "execution_count": 43,
   "id": "59b7239c-7e4d-4afb-a523-f1f8d6c6b5eb",
   "metadata": {},
   "outputs": [],
   "source": [
    "final_df['Source']=labelencoder.fit_transform(final_df['Source'])\n",
    "final_df['Destination']=labelencoder.fit_transform(final_df['Destination'])\n",
    "final_df['Additional_Info']=labelencoder.fit_transform(final_df['Additional_Info'])"
   ]
  },
  {
   "cell_type": "code",
   "execution_count": 44,
   "id": "a86f7bbe-38ea-4bd6-85b1-4e6384ef5c71",
   "metadata": {},
   "outputs": [
    {
     "data": {
      "text/html": [
       "<div>\n",
       "<style scoped>\n",
       "    .dataframe tbody tr th:only-of-type {\n",
       "        vertical-align: middle;\n",
       "    }\n",
       "\n",
       "    .dataframe tbody tr th {\n",
       "        vertical-align: top;\n",
       "    }\n",
       "\n",
       "    .dataframe thead th {\n",
       "        text-align: right;\n",
       "    }\n",
       "</style>\n",
       "<table border=\"1\" class=\"dataframe\">\n",
       "  <thead>\n",
       "    <tr style=\"text-align: right;\">\n",
       "      <th></th>\n",
       "      <th>Airline</th>\n",
       "      <th>Source</th>\n",
       "      <th>Destination</th>\n",
       "      <th>Route</th>\n",
       "      <th>Total_Stops</th>\n",
       "      <th>Additional_Info</th>\n",
       "      <th>Price</th>\n",
       "      <th>Date</th>\n",
       "      <th>Month</th>\n",
       "      <th>Year</th>\n",
       "      <th>Dep_hour</th>\n",
       "      <th>Dep_min</th>\n",
       "      <th>Arrival_hour</th>\n",
       "      <th>Arrival_min</th>\n",
       "      <th>Duration_min</th>\n",
       "    </tr>\n",
       "  </thead>\n",
       "  <tbody>\n",
       "    <tr>\n",
       "      <th>0</th>\n",
       "      <td>3</td>\n",
       "      <td>0</td>\n",
       "      <td>5</td>\n",
       "      <td>BLR → DEL</td>\n",
       "      <td>0.0</td>\n",
       "      <td>8</td>\n",
       "      <td>3897.0</td>\n",
       "      <td>24</td>\n",
       "      <td>03</td>\n",
       "      <td>2019</td>\n",
       "      <td>22</td>\n",
       "      <td>20</td>\n",
       "      <td>01</td>\n",
       "      <td>10</td>\n",
       "      <td>170</td>\n",
       "    </tr>\n",
       "    <tr>\n",
       "      <th>1</th>\n",
       "      <td>1</td>\n",
       "      <td>3</td>\n",
       "      <td>0</td>\n",
       "      <td>CCU → IXR → BBI → BLR</td>\n",
       "      <td>2.0</td>\n",
       "      <td>8</td>\n",
       "      <td>7662.0</td>\n",
       "      <td>1</td>\n",
       "      <td>05</td>\n",
       "      <td>2019</td>\n",
       "      <td>05</td>\n",
       "      <td>50</td>\n",
       "      <td>13</td>\n",
       "      <td>15</td>\n",
       "      <td>445</td>\n",
       "    </tr>\n",
       "    <tr>\n",
       "      <th>2</th>\n",
       "      <td>4</td>\n",
       "      <td>2</td>\n",
       "      <td>1</td>\n",
       "      <td>DEL → LKO → BOM → COK</td>\n",
       "      <td>2.0</td>\n",
       "      <td>8</td>\n",
       "      <td>13882.0</td>\n",
       "      <td>9</td>\n",
       "      <td>06</td>\n",
       "      <td>2019</td>\n",
       "      <td>09</td>\n",
       "      <td>25</td>\n",
       "      <td>04</td>\n",
       "      <td>25</td>\n",
       "      <td>1140</td>\n",
       "    </tr>\n",
       "    <tr>\n",
       "      <th>3</th>\n",
       "      <td>3</td>\n",
       "      <td>3</td>\n",
       "      <td>0</td>\n",
       "      <td>CCU → NAG → BLR</td>\n",
       "      <td>1.0</td>\n",
       "      <td>8</td>\n",
       "      <td>6218.0</td>\n",
       "      <td>12</td>\n",
       "      <td>05</td>\n",
       "      <td>2019</td>\n",
       "      <td>18</td>\n",
       "      <td>05</td>\n",
       "      <td>23</td>\n",
       "      <td>30</td>\n",
       "      <td>325</td>\n",
       "    </tr>\n",
       "    <tr>\n",
       "      <th>4</th>\n",
       "      <td>3</td>\n",
       "      <td>0</td>\n",
       "      <td>5</td>\n",
       "      <td>BLR → NAG → DEL</td>\n",
       "      <td>1.0</td>\n",
       "      <td>8</td>\n",
       "      <td>13302.0</td>\n",
       "      <td>01</td>\n",
       "      <td>03</td>\n",
       "      <td>2019</td>\n",
       "      <td>16</td>\n",
       "      <td>50</td>\n",
       "      <td>21</td>\n",
       "      <td>35</td>\n",
       "      <td>285</td>\n",
       "    </tr>\n",
       "  </tbody>\n",
       "</table>\n",
       "</div>"
      ],
      "text/plain": [
       "   Airline  Source  Destination                  Route  Total_Stops  \\\n",
       "0        3       0            5              BLR → DEL          0.0   \n",
       "1        1       3            0  CCU → IXR → BBI → BLR          2.0   \n",
       "2        4       2            1  DEL → LKO → BOM → COK          2.0   \n",
       "3        3       3            0        CCU → NAG → BLR          1.0   \n",
       "4        3       0            5        BLR → NAG → DEL          1.0   \n",
       "\n",
       "   Additional_Info    Price Date Month  Year Dep_hour Dep_min Arrival_hour  \\\n",
       "0                8   3897.0   24    03  2019       22      20           01   \n",
       "1                8   7662.0    1    05  2019       05      50           13   \n",
       "2                8  13882.0    9    06  2019       09      25           04   \n",
       "3                8   6218.0   12    05  2019       18      05           23   \n",
       "4                8  13302.0   01    03  2019       16      50           21   \n",
       "\n",
       "  Arrival_min  Duration_min  \n",
       "0          10           170  \n",
       "1          15           445  \n",
       "2          25          1140  \n",
       "3          30           325  \n",
       "4          35           285  "
      ]
     },
     "execution_count": 44,
     "metadata": {},
     "output_type": "execute_result"
    }
   ],
   "source": [
    "final_df.head()"
   ]
  },
  {
   "cell_type": "code",
   "execution_count": 45,
   "id": "2a84fd40-d3e5-49ae-93eb-f04e7da9f4c6",
   "metadata": {},
   "outputs": [
    {
     "data": {
      "text/plain": [
       "(13352, 15)"
      ]
     },
     "execution_count": 45,
     "metadata": {},
     "output_type": "execute_result"
    }
   ],
   "source": [
    "final_df.shape"
   ]
  },
  {
   "cell_type": "code",
   "execution_count": 46,
   "id": "ddc5fc59-16b3-470f-9bb0-050bda347ac1",
   "metadata": {},
   "outputs": [
    {
     "data": {
      "text/html": [
       "<div>\n",
       "<style scoped>\n",
       "    .dataframe tbody tr th:only-of-type {\n",
       "        vertical-align: middle;\n",
       "    }\n",
       "\n",
       "    .dataframe tbody tr th {\n",
       "        vertical-align: top;\n",
       "    }\n",
       "\n",
       "    .dataframe thead th {\n",
       "        text-align: right;\n",
       "    }\n",
       "</style>\n",
       "<table border=\"1\" class=\"dataframe\">\n",
       "  <thead>\n",
       "    <tr style=\"text-align: right;\">\n",
       "      <th></th>\n",
       "      <th>Airline</th>\n",
       "      <th>Source</th>\n",
       "      <th>Destination</th>\n",
       "      <th>Total_Stops</th>\n",
       "      <th>Additional_Info</th>\n",
       "      <th>Price</th>\n",
       "      <th>Duration_min</th>\n",
       "    </tr>\n",
       "  </thead>\n",
       "  <tbody>\n",
       "    <tr>\n",
       "      <th>Airline</th>\n",
       "      <td>1.00</td>\n",
       "      <td>-0.02</td>\n",
       "      <td>0.02</td>\n",
       "      <td>-0.21</td>\n",
       "      <td>-0.06</td>\n",
       "      <td>-0.04</td>\n",
       "      <td>-0.16</td>\n",
       "    </tr>\n",
       "    <tr>\n",
       "      <th>Source</th>\n",
       "      <td>-0.02</td>\n",
       "      <td>1.00</td>\n",
       "      <td>-0.59</td>\n",
       "      <td>0.19</td>\n",
       "      <td>-0.02</td>\n",
       "      <td>0.02</td>\n",
       "      <td>0.16</td>\n",
       "    </tr>\n",
       "    <tr>\n",
       "      <th>Destination</th>\n",
       "      <td>0.02</td>\n",
       "      <td>-0.59</td>\n",
       "      <td>1.00</td>\n",
       "      <td>-0.29</td>\n",
       "      <td>0.03</td>\n",
       "      <td>-0.07</td>\n",
       "      <td>-0.25</td>\n",
       "    </tr>\n",
       "    <tr>\n",
       "      <th>Total_Stops</th>\n",
       "      <td>-0.21</td>\n",
       "      <td>0.19</td>\n",
       "      <td>-0.29</td>\n",
       "      <td>1.00</td>\n",
       "      <td>-0.08</td>\n",
       "      <td>0.60</td>\n",
       "      <td>0.74</td>\n",
       "    </tr>\n",
       "    <tr>\n",
       "      <th>Additional_Info</th>\n",
       "      <td>-0.06</td>\n",
       "      <td>-0.02</td>\n",
       "      <td>0.03</td>\n",
       "      <td>-0.08</td>\n",
       "      <td>1.00</td>\n",
       "      <td>-0.07</td>\n",
       "      <td>-0.17</td>\n",
       "    </tr>\n",
       "    <tr>\n",
       "      <th>Price</th>\n",
       "      <td>-0.04</td>\n",
       "      <td>0.02</td>\n",
       "      <td>-0.07</td>\n",
       "      <td>0.60</td>\n",
       "      <td>-0.07</td>\n",
       "      <td>1.00</td>\n",
       "      <td>0.51</td>\n",
       "    </tr>\n",
       "    <tr>\n",
       "      <th>Duration_min</th>\n",
       "      <td>-0.16</td>\n",
       "      <td>0.16</td>\n",
       "      <td>-0.25</td>\n",
       "      <td>0.74</td>\n",
       "      <td>-0.17</td>\n",
       "      <td>0.51</td>\n",
       "      <td>1.00</td>\n",
       "    </tr>\n",
       "  </tbody>\n",
       "</table>\n",
       "</div>"
      ],
      "text/plain": [
       "                 Airline  Source  Destination  Total_Stops  Additional_Info  \\\n",
       "Airline             1.00   -0.02         0.02        -0.21            -0.06   \n",
       "Source             -0.02    1.00        -0.59         0.19            -0.02   \n",
       "Destination         0.02   -0.59         1.00        -0.29             0.03   \n",
       "Total_Stops        -0.21    0.19        -0.29         1.00            -0.08   \n",
       "Additional_Info    -0.06   -0.02         0.03        -0.08             1.00   \n",
       "Price              -0.04    0.02        -0.07         0.60            -0.07   \n",
       "Duration_min       -0.16    0.16        -0.25         0.74            -0.17   \n",
       "\n",
       "                 Price  Duration_min  \n",
       "Airline          -0.04         -0.16  \n",
       "Source            0.02          0.16  \n",
       "Destination      -0.07         -0.25  \n",
       "Total_Stops       0.60          0.74  \n",
       "Additional_Info  -0.07         -0.17  \n",
       "Price             1.00          0.51  \n",
       "Duration_min      0.51          1.00  "
      ]
     },
     "execution_count": 46,
     "metadata": {},
     "output_type": "execute_result"
    }
   ],
   "source": [
    "import numpy as np\n",
    "numeric_df = final_df.select_dtypes(include=['number'])\n",
    "np.round(numeric_df.corr(),2)"
   ]
  },
  {
   "cell_type": "code",
   "execution_count": 47,
   "id": "ce9be813-54f3-4799-9d02-d6cba9020674",
   "metadata": {},
   "outputs": [
    {
     "data": {
      "text/plain": [
       "<Axes: xlabel='Total_Stops', ylabel='Price'>"
      ]
     },
     "execution_count": 47,
     "metadata": {},
     "output_type": "execute_result"
    },
    {
     "data": {
      "image/png": "[encoded data removed]",
      "text/plain": [
       "<Figure size 640x480 with 1 Axes>"
      ]
     },
     "metadata": {},
     "output_type": "display_data"
    }
   ],
   "source": [
    "import seaborn as sns\n",
    "sns.regplot(data=numeric_df,x='Total_Stops',y='Price')"
   ]
  },
  {
   "cell_type": "code",
   "execution_count": 48,
   "id": "31a95675-36d2-4f43-b556-9d2111f86659",
   "metadata": {},
   "outputs": [
    {
     "name": "stderr",
     "output_type": "stream",
     "text": [
      "C:\\Users\\aasha\\anaconda3\\Lib\\site-packages\\seaborn\\_oldcore.py:1119: FutureWarning: use_inf_as_na option is deprecated and will be removed in a future version. Convert inf values to NaN before operating instead.\n",
      "  with pd.option_context('mode.use_inf_as_na', True):\n",
      "C:\\Users\\aasha\\anaconda3\\Lib\\site-packages\\seaborn\\_oldcore.py:1119: FutureWarning: use_inf_as_na option is deprecated and will be removed in a future version. Convert inf values to NaN before operating instead.\n",
      "  with pd.option_context('mode.use_inf_as_na', True):\n"
     ]
    },
    {
     "data": {
      "text/plain": [
       "<Axes: xlabel='Total_Stops', ylabel='Price'>"
      ]
     },
     "execution_count": 48,
     "metadata": {},
     "output_type": "execute_result"
    },
    {
     "data": {
      "image/png": "[encoded data removed]",
      "text/plain": [
       "<Figure size 640x480 with 1 Axes>"
      ]
     },
     "metadata": {},
     "output_type": "display_data"
    }
   ],
   "source": [
    "import seaborn as sns\n",
    "sns.lineplot(data=numeric_df,x='Total_Stops',y='Price')"
   ]
  },
  {
   "cell_type": "code",
   "execution_count": 49,
   "id": "2a8c196e-a97b-4c96-b294-ba226b8f8347",
   "metadata": {},
   "outputs": [],
   "source": [
    "import numpy as np\n",
    "numeric_df = final_df.select_dtypes(include=['number'])\n",
    "corr_matrix=np.round(numeric_df.corr(),2)"
   ]
  },
  {
   "cell_type": "code",
   "execution_count": 50,
   "id": "a9079012-cb6d-48c1-9296-832f4148362e",
   "metadata": {},
   "outputs": [
    {
     "data": {
      "text/plain": [
       "<Axes: >"
      ]
     },
     "execution_count": 50,
     "metadata": {},
     "output_type": "execute_result"
    },
    {
     "data": {
      "image/png": "[encoded data removed]",
      "text/plain": [
       "<Figure size 640x480 with 2 Axes>"
      ]
     },
     "metadata": {},
     "output_type": "display_data"
    }
   ],
   "source": [
    "sns.heatmap(corr_matrix,annot=True,cmap='coolwarm')"
   ]
  },
  {
   "cell_type": "code",
   "execution_count": 51,
   "id": "ca443af5-0392-4289-bf2e-753042b15f61",
   "metadata": {},
   "outputs": [
    {
     "data": {
      "text/html": [
       "<div>\n",
       "<style scoped>\n",
       "    .dataframe tbody tr th:only-of-type {\n",
       "        vertical-align: middle;\n",
       "    }\n",
       "\n",
       "    .dataframe tbody tr th {\n",
       "        vertical-align: top;\n",
       "    }\n",
       "\n",
       "    .dataframe thead th {\n",
       "        text-align: right;\n",
       "    }\n",
       "</style>\n",
       "<table border=\"1\" class=\"dataframe\">\n",
       "  <thead>\n",
       "    <tr style=\"text-align: right;\">\n",
       "      <th></th>\n",
       "      <th>Airline</th>\n",
       "      <th>Source</th>\n",
       "      <th>Destination</th>\n",
       "      <th>Route</th>\n",
       "      <th>Total_Stops</th>\n",
       "      <th>Additional_Info</th>\n",
       "      <th>Price</th>\n",
       "      <th>Date</th>\n",
       "      <th>Month</th>\n",
       "      <th>Year</th>\n",
       "      <th>Dep_hour</th>\n",
       "      <th>Dep_min</th>\n",
       "      <th>Arrival_hour</th>\n",
       "      <th>Arrival_min</th>\n",
       "      <th>Duration_min</th>\n",
       "    </tr>\n",
       "  </thead>\n",
       "  <tbody>\n",
       "    <tr>\n",
       "      <th>0</th>\n",
       "      <td>3</td>\n",
       "      <td>0</td>\n",
       "      <td>5</td>\n",
       "      <td>BLR → DEL</td>\n",
       "      <td>0.0</td>\n",
       "      <td>8</td>\n",
       "      <td>3897.0</td>\n",
       "      <td>24</td>\n",
       "      <td>03</td>\n",
       "      <td>2019</td>\n",
       "      <td>22</td>\n",
       "      <td>20</td>\n",
       "      <td>01</td>\n",
       "      <td>10</td>\n",
       "      <td>170</td>\n",
       "    </tr>\n",
       "    <tr>\n",
       "      <th>1</th>\n",
       "      <td>1</td>\n",
       "      <td>3</td>\n",
       "      <td>0</td>\n",
       "      <td>CCU → IXR → BBI → BLR</td>\n",
       "      <td>2.0</td>\n",
       "      <td>8</td>\n",
       "      <td>7662.0</td>\n",
       "      <td>1</td>\n",
       "      <td>05</td>\n",
       "      <td>2019</td>\n",
       "      <td>05</td>\n",
       "      <td>50</td>\n",
       "      <td>13</td>\n",
       "      <td>15</td>\n",
       "      <td>445</td>\n",
       "    </tr>\n",
       "    <tr>\n",
       "      <th>2</th>\n",
       "      <td>4</td>\n",
       "      <td>2</td>\n",
       "      <td>1</td>\n",
       "      <td>DEL → LKO → BOM → COK</td>\n",
       "      <td>2.0</td>\n",
       "      <td>8</td>\n",
       "      <td>13882.0</td>\n",
       "      <td>9</td>\n",
       "      <td>06</td>\n",
       "      <td>2019</td>\n",
       "      <td>09</td>\n",
       "      <td>25</td>\n",
       "      <td>04</td>\n",
       "      <td>25</td>\n",
       "      <td>1140</td>\n",
       "    </tr>\n",
       "    <tr>\n",
       "      <th>3</th>\n",
       "      <td>3</td>\n",
       "      <td>3</td>\n",
       "      <td>0</td>\n",
       "      <td>CCU → NAG → BLR</td>\n",
       "      <td>1.0</td>\n",
       "      <td>8</td>\n",
       "      <td>6218.0</td>\n",
       "      <td>12</td>\n",
       "      <td>05</td>\n",
       "      <td>2019</td>\n",
       "      <td>18</td>\n",
       "      <td>05</td>\n",
       "      <td>23</td>\n",
       "      <td>30</td>\n",
       "      <td>325</td>\n",
       "    </tr>\n",
       "    <tr>\n",
       "      <th>4</th>\n",
       "      <td>3</td>\n",
       "      <td>0</td>\n",
       "      <td>5</td>\n",
       "      <td>BLR → NAG → DEL</td>\n",
       "      <td>1.0</td>\n",
       "      <td>8</td>\n",
       "      <td>13302.0</td>\n",
       "      <td>01</td>\n",
       "      <td>03</td>\n",
       "      <td>2019</td>\n",
       "      <td>16</td>\n",
       "      <td>50</td>\n",
       "      <td>21</td>\n",
       "      <td>35</td>\n",
       "      <td>285</td>\n",
       "    </tr>\n",
       "  </tbody>\n",
       "</table>\n",
       "</div>"
      ],
      "text/plain": [
       "   Airline  Source  Destination                  Route  Total_Stops  \\\n",
       "0        3       0            5              BLR → DEL          0.0   \n",
       "1        1       3            0  CCU → IXR → BBI → BLR          2.0   \n",
       "2        4       2            1  DEL → LKO → BOM → COK          2.0   \n",
       "3        3       3            0        CCU → NAG → BLR          1.0   \n",
       "4        3       0            5        BLR → NAG → DEL          1.0   \n",
       "\n",
       "   Additional_Info    Price Date Month  Year Dep_hour Dep_min Arrival_hour  \\\n",
       "0                8   3897.0   24    03  2019       22      20           01   \n",
       "1                8   7662.0    1    05  2019       05      50           13   \n",
       "2                8  13882.0    9    06  2019       09      25           04   \n",
       "3                8   6218.0   12    05  2019       18      05           23   \n",
       "4                8  13302.0   01    03  2019       16      50           21   \n",
       "\n",
       "  Arrival_min  Duration_min  \n",
       "0          10           170  \n",
       "1          15           445  \n",
       "2          25          1140  \n",
       "3          30           325  \n",
       "4          35           285  "
      ]
     },
     "execution_count": 51,
     "metadata": {},
     "output_type": "execute_result"
    }
   ],
   "source": [
    "final_df.head()"
   ]
  },
  {
   "cell_type": "code",
   "execution_count": 52,
   "id": "a53fc302-d685-422a-90ef-3b6eced49ea3",
   "metadata": {},
   "outputs": [
    {
     "data": {
      "text/plain": [
       "(13352, 7)"
      ]
     },
     "execution_count": 52,
     "metadata": {},
     "output_type": "execute_result"
    }
   ],
   "source": [
    "numeric_df.shape"
   ]
  },
  {
   "cell_type": "code",
   "execution_count": 53,
   "id": "b716c756-fc31-4992-8ba7-a0a9f0af6f45",
   "metadata": {},
   "outputs": [],
   "source": [
    "import numpy as np\n",
    "mean=np.mean(final_df['Price'])\n",
    "final_df['Price'].fillna(mean,inplace=True)"
   ]
  },
  {
   "cell_type": "code",
   "execution_count": 54,
   "id": "ee8c68c9-ffcb-4572-8ad1-829efe6095d4",
   "metadata": {},
   "outputs": [],
   "source": [
    "final_df['Price']=final_df['Price'].astype(int)"
   ]
  },
  {
   "cell_type": "code",
   "execution_count": 55,
   "id": "958a0417-6948-4590-8d7d-197d41f46529",
   "metadata": {},
   "outputs": [],
   "source": [
    "final_df.dropna(inplace=True)"
   ]
  },
  {
   "cell_type": "code",
   "execution_count": 56,
   "id": "13f78388-fbd6-43ba-8ded-ef23b9ce03a0",
   "metadata": {},
   "outputs": [
    {
     "data": {
      "text/plain": [
       "Airline            0\n",
       "Source             0\n",
       "Destination        0\n",
       "Route              0\n",
       "Total_Stops        0\n",
       "Additional_Info    0\n",
       "Price              0\n",
       "Date               0\n",
       "Month              0\n",
       "Year               0\n",
       "Dep_hour           0\n",
       "Dep_min            0\n",
       "Arrival_hour       0\n",
       "Arrival_min        0\n",
       "Duration_min       0\n",
       "dtype: int64"
      ]
     },
     "execution_count": 56,
     "metadata": {},
     "output_type": "execute_result"
    }
   ],
   "source": [
    "final_df.isnull().sum()"
   ]
  },
  {
   "cell_type": "code",
   "execution_count": 57,
   "id": "8a27ace5-f435-41ac-8935-0050ede2b92b",
   "metadata": {},
   "outputs": [],
   "source": [
    "final_df['Total_Stops']=final_df['Total_Stops'].astype(int)\n",
    "final_df['Date']=final_df['Date'].astype(int)\n",
    "final_df['Month']=final_df['Month'].astype(int)\n",
    "final_df['Year']=final_df['Year'].astype(int)\n",
    "final_df['Dep_hour']=final_df['Dep_hour'].astype(int)\n",
    "final_df['Dep_min']=final_df['Dep_min'].astype(int)\n",
    "final_df['Arrival_hour']=final_df['Arrival_hour'].astype(int)\n",
    "final_df['Arrival_min']=final_df['Arrival_min'].astype(int)"
   ]
  },
  {
   "cell_type": "code",
   "execution_count": 58,
   "id": "58acc477-877d-44f3-8680-11ed6eb409d2",
   "metadata": {},
   "outputs": [
    {
     "name": "stdout",
     "output_type": "stream",
     "text": [
      "<class 'pandas.core.frame.DataFrame'>\n",
      "Index: 13351 entries, 0 to 13353\n",
      "Data columns (total 15 columns):\n",
      " #   Column           Non-Null Count  Dtype \n",
      "---  ------           --------------  ----- \n",
      " 0   Airline          13351 non-null  int32 \n",
      " 1   Source           13351 non-null  int32 \n",
      " 2   Destination      13351 non-null  int32 \n",
      " 3   Route            13351 non-null  object\n",
      " 4   Total_Stops      13351 non-null  int32 \n",
      " 5   Additional_Info  13351 non-null  int32 \n",
      " 6   Price            13351 non-null  int32 \n",
      " 7   Date             13351 non-null  int32 \n",
      " 8   Month            13351 non-null  int32 \n",
      " 9   Year             13351 non-null  int32 \n",
      " 10  Dep_hour         13351 non-null  int32 \n",
      " 11  Dep_min          13351 non-null  int32 \n",
      " 12  Arrival_hour     13351 non-null  int32 \n",
      " 13  Arrival_min      13351 non-null  int32 \n",
      " 14  Duration_min     13351 non-null  int32 \n",
      "dtypes: int32(14), object(1)\n",
      "memory usage: 938.7+ KB\n"
     ]
    }
   ],
   "source": [
    "final_df.info()"
   ]
  },
  {
   "cell_type": "code",
   "execution_count": 59,
   "id": "d73536c3-f234-4ac0-9a68-e45ef8a799f6",
   "metadata": {},
   "outputs": [],
   "source": [
    "import pandas as pd\n",
    "from sklearn.feature_extraction.text import TfidfVectorizer\n",
    "from scipy.sparse import hstack\n",
    "\n",
    "routes=final_df['Route']\n",
    "numeric_data=final_df.drop(columns=['Route'])\n",
    "\n",
    "tf_idf=TfidfVectorizer()\n",
    "tfidf_matrix=tf_idf.fit_transform(routes)\n",
    "\n",
    "final_features = hstack([tfidf_matrix, numeric_data.values])"
   ]
  },
  {
   "cell_type": "markdown",
   "id": "2edcb97b-1b78-446d-bdee-15ba7e124c87",
   "metadata": {},
   "source": [
    "Built a random forest regressor model for predicting prices of flight tickets"
   ]
  },
  {
   "cell_type": "code",
   "execution_count": 60,
   "id": "117e93b3-773d-40c3-bfe0-e4efe45459d9",
   "metadata": {},
   "outputs": [
    {
     "data": {
      "text/html": [
       "<style>#sk-container-id-1 {color: black;background-color: white;}#sk-container-id-1 pre{padding: 0;}#sk-container-id-1 div.sk-toggleable {background-color: white;}#sk-container-id-1 label.sk-toggleable__label {cursor: pointer;display: block;width: 100%;margin-bottom: 0;padding: 0.3em;box-sizing: border-box;text-align: center;}#sk-container-id-1 label.sk-toggleable__label-arrow:before {content: \"▸\";float: left;margin-right: 0.25em;color: #696969;}#sk-container-id-1 label.sk-toggleable__label-arrow:hover:before {color: black;}#sk-container-id-1 div.sk-estimator:hover label.sk-toggleable__label-arrow:before {color: black;}#sk-container-id-1 div.sk-toggleable__content {max-height: 0;max-width: 0;overflow: hidden;text-align: left;background-color: #f0f8ff;}#sk-container-id-1 div.sk-toggleable__content pre {margin: 0.2em;color: black;border-radius: 0.25em;background-color: #f0f8ff;}#sk-container-id-1 input.sk-toggleable__control:checked~div.sk-toggleable__content {max-height: 200px;max-width: 100%;overflow: auto;}#sk-container-id-1 input.sk-toggleable__control:checked~label.sk-toggleable__label-arrow:before {content: \"▾\";}#sk-container-id-1 div.sk-estimator input.sk-toggleable__control:checked~label.sk-toggleable__label {background-color: #d4ebff;}#sk-container-id-1 div.sk-label input.sk-toggleable__control:checked~label.sk-toggleable__label {background-color: #d4ebff;}#sk-container-id-1 input.sk-hidden--visually {border: 0;clip: rect(1px 1px 1px 1px);clip: rect(1px, 1px, 1px, 1px);height: 1px;margin: -1px;overflow: hidden;padding: 0;position: absolute;width: 1px;}#sk-container-id-1 div.sk-estimator {font-family: monospace;background-color: #f0f8ff;border: 1px dotted black;border-radius: 0.25em;box-sizing: border-box;margin-bottom: 0.5em;}#sk-container-id-1 div.sk-estimator:hover {background-color: #d4ebff;}#sk-container-id-1 div.sk-parallel-item::after {content: \"\";width: 100%;border-bottom: 1px solid gray;flex-grow: 1;}#sk-container-id-1 div.sk-label:hover label.sk-toggleable__label {background-color: #d4ebff;}#sk-container-id-1 div.sk-serial::before {content: \"\";position: absolute;border-left: 1px solid gray;box-sizing: border-box;top: 0;bottom: 0;left: 50%;z-index: 0;}#sk-container-id-1 div.sk-serial {display: flex;flex-direction: column;align-items: center;background-color: white;padding-right: 0.2em;padding-left: 0.2em;position: relative;}#sk-container-id-1 div.sk-item {position: relative;z-index: 1;}#sk-container-id-1 div.sk-parallel {display: flex;align-items: stretch;justify-content: center;background-color: white;position: relative;}#sk-container-id-1 div.sk-item::before, #sk-container-id-1 div.sk-parallel-item::before {content: \"\";position: absolute;border-left: 1px solid gray;box-sizing: border-box;top: 0;bottom: 0;left: 50%;z-index: -1;}#sk-container-id-1 div.sk-parallel-item {display: flex;flex-direction: column;z-index: 1;position: relative;background-color: white;}#sk-container-id-1 div.sk-parallel-item:first-child::after {align-self: flex-end;width: 50%;}#sk-container-id-1 div.sk-parallel-item:last-child::after {align-self: flex-start;width: 50%;}#sk-container-id-1 div.sk-parallel-item:only-child::after {width: 0;}#sk-container-id-1 div.sk-dashed-wrapped {border: 1px dashed gray;margin: 0 0.4em 0.5em 0.4em;box-sizing: border-box;padding-bottom: 0.4em;background-color: white;}#sk-container-id-1 div.sk-label label {font-family: monospace;font-weight: bold;display: inline-block;line-height: 1.2em;}#sk-container-id-1 div.sk-label-container {text-align: center;}#sk-container-id-1 div.sk-container {/* jupyter's `normalize.less` sets `[hidden] { display: none; }` but bootstrap.min.css set `[hidden] { display: none !important; }` so we also need the `!important` here to be able to override the default hidden behavior on the sphinx rendered scikit-learn.org. See: https://github.com/scikit-learn/scikit-learn/issues/21755 */display: inline-block !important;position: relative;}#sk-container-id-1 div.sk-text-repr-fallback {display: none;}</style><div id=\"sk-container-id-1\" class=\"sk-top-container\"><div class=\"sk-text-repr-fallback\"><pre>RandomForestRegressor()</pre><b>In a Jupyter environment, please rerun this cell to show the HTML representation or trust the notebook. <br />On GitHub, the HTML representation is unable to render, please try loading this page with nbviewer.org.</b></div><div class=\"sk-container\" hidden><div class=\"sk-item\"><div class=\"sk-estimator sk-toggleable\"><input class=\"sk-toggleable__control sk-hidden--visually\" id=\"sk-estimator-id-1\" type=\"checkbox\" checked><label for=\"sk-estimator-id-1\" class=\"sk-toggleable__label sk-toggleable__label-arrow\">RandomForestRegressor</label><div class=\"sk-toggleable__content\"><pre>RandomForestRegressor()</pre></div></div></div></div></div>"
      ],
      "text/plain": [
       "RandomForestRegressor()"
      ]
     },
     "execution_count": 60,
     "metadata": {},
     "output_type": "execute_result"
    }
   ],
   "source": [
    "from sklearn.ensemble import RandomForestRegressor\n",
    "from sklearn.model_selection import train_test_split\n",
    "\n",
    "X=final_features\n",
    "y=final_df['Price']\n",
    "X_train,X_test,y_train,y_test=train_test_split(X,y,test_size=0.2,random_state=42)\n",
    "\n",
    "model=RandomForestRegressor()\n",
    "model.fit(X_train,y_train)"
   ]
  },
  {
   "cell_type": "code",
   "execution_count": 61,
   "id": "2447b4bf-7c11-4238-9c01-4f43d8ecd364",
   "metadata": {},
   "outputs": [],
   "source": [
    "predictions=model.predict(X_test)"
   ]
  },
  {
   "cell_type": "code",
   "execution_count": 62,
   "id": "0ae5906e-20ea-42a2-bef5-16fd679025b1",
   "metadata": {},
   "outputs": [
    {
     "name": "stdout",
     "output_type": "stream",
     "text": [
      "[ 4050.  7064.  9086. ... 11150.  7354.  3807.]\n"
     ]
    }
   ],
   "source": [
    "print(predictions)"
   ]
  },
  {
   "cell_type": "code",
   "execution_count": 63,
   "id": "8105a2f7-7f95-45e0-8abc-1b924d433cbd",
   "metadata": {},
   "outputs": [
    {
     "name": "stdout",
     "output_type": "stream",
     "text": [
      "Mean Squared Error: 250140.81761471357\n",
      "R-squared: 0.986269975628944\n"
     ]
    }
   ],
   "source": [
    "from sklearn.metrics import mean_squared_error, r2_score\n",
    "\n",
    "mse = mean_squared_error(y_test, predictions)\n",
    "r2 = r2_score(y_test, predictions)\n",
    "\n",
    "print(f'Mean Squared Error: {mse}')\n",
    "print(f'R-squared: {r2}')\n"
   ]
  },
  {
   "cell_type": "markdown",
   "id": "7c9e5305-610e-4bcb-b821-ec9406914b45",
   "metadata": {},
   "source": [
    "MSE of 271,697.94 means that, on average, the square of the difference between predicted and actual prices is around this value.\n",
    "If we take the square root of 271,697.94, it gives you an RMSE of approximately 521 (which is a rough estimate of the average prediction error in the same unit as your target, e.g., dollars).\n",
    "To fully understand this, lets compare it to the scale of your flight prices.\n",
    "\n",
    "R-squared value of 0.9851 means that approximately 98.51% of the variance in the flight prices is explained by your model. This is a very high value, suggesting that your model fits the data extremely well.\n",
    "This suggests that your model explains most of the variance in the target variable, which is a strong indication of good performance"
   ]
  },
  {
   "cell_type": "code",
   "execution_count": 64,
   "id": "c0314974-8911-4640-92c8-d252f12d9b07",
   "metadata": {},
   "outputs": [
    {
     "name": "stdout",
     "output_type": "stream",
     "text": [
      "9086.354505280504\n"
     ]
    }
   ],
   "source": [
    "mean=np.mean(final_df['Price'])\n",
    "print(mean)"
   ]
  },
  {
   "cell_type": "code",
   "execution_count": 65,
   "id": "f50e70c4-2918-4d15-9db7-b67c76017301",
   "metadata": {},
   "outputs": [
    {
     "name": "stdout",
     "output_type": "stream",
     "text": [
      "4124.116724158546\n"
     ]
    }
   ],
   "source": [
    "std=np.std(final_df['Price'])\n",
    "print(std)"
   ]
  },
  {
   "cell_type": "code",
   "execution_count": 66,
   "id": "20511a33-66da-4cb4-ac08-ae44aa181101",
   "metadata": {},
   "outputs": [
    {
     "name": "stdout",
     "output_type": "stream",
     "text": [
      "500.14079779069573\n"
     ]
    }
   ],
   "source": [
    "RMSE=mse**(1/2)\n",
    "print(RMSE)"
   ]
  },
  {
   "cell_type": "markdown",
   "id": "a31fadf7-d3be-446d-abef-de6e84d2753f",
   "metadata": {},
   "source": [
    "comparing RMSE and std, it is evident that since RMSE<<std, the model is performing well as the deviation in model is within range of the natural deviation"
   ]
  },
  {
   "cell_type": "code",
   "execution_count": 67,
   "id": "216fb90e-d1d1-4536-bde6-7de4faca2c5b",
   "metadata": {},
   "outputs": [
    {
     "data": {
      "text/plain": [
       "['Flight_Price_Prediction.pkl']"
      ]
     },
     "execution_count": 67,
     "metadata": {},
     "output_type": "execute_result"
    }
   ],
   "source": [
    "import joblib\n",
    "joblib.dump(model,'Flight_Price_Prediction.pkl')"
   ]
  },
  {
   "cell_type": "code",
   "execution_count": 68,
   "id": "5c9743f6-aede-46a6-a6fd-2573a45232d4",
   "metadata": {},
   "outputs": [],
   "source": [
    "final_df.to_csv('flight_analysed.csv',index=False)"
   ]
  },
  {
   "cell_type": "code",
   "execution_count": 70,
   "id": "75fc0651-b510-48f1-bdeb-491bd2271859",
   "metadata": {},
   "outputs": [
    {
     "data": {
      "text/plain": [
       "array([ 3,  1,  4,  8,  6,  2, 10,  0, 11,  5,  7,  9])"
      ]
     },
     "execution_count": 70,
     "metadata": {},
     "output_type": "execute_result"
    }
   ],
   "source": [
    "final_df['Airline'].unique()"
   ]
  },
  {
   "cell_type": "code",
   "execution_count": 71,
   "id": "de771aa7-b34c-4d91-a569-38910629efe5",
   "metadata": {},
   "outputs": [],
   "source": [
    "colu=dict(enumerate(labelencoder.classes_))"
   ]
  },
  {
   "cell_type": "code",
   "execution_count": 72,
   "id": "6a3a4c76-3198-4a57-89d6-48326c213ff9",
   "metadata": {},
   "outputs": [
    {
     "name": "stdout",
     "output_type": "stream",
     "text": [
      "{0: '1 Long layover', 1: '1 Short layover', 2: '2 Long layover', 3: 'Business class', 4: 'Change airports', 5: 'In-flight meal not included', 6: 'No Info', 7: 'No check-in baggage included', 8: 'No info', 9: 'Red-eye flight'}\n"
     ]
    }
   ],
   "source": [
    "print(colu)"
   ]
  },
  {
   "cell_type": "code",
   "execution_count": null,
   "id": "9792194a-e435-4976-9860-19a9a82a88c6",
   "metadata": {},
   "outputs": [],
   "source": []
  }
 ],
 "metadata": {
  "kernelspec": {
   "display_name": "Python 3 (ipykernel)",
   "language": "python",
   "name": "python3"
  },
  "language_info": {
   "codemirror_mode": {
    "name": "ipython",
    "version": 3
   },
   "file_extension": ".py",
   "mimetype": "text/x-python",
   "name": "python",
   "nbconvert_exporter": "python",
   "pygments_lexer": "ipython3",
   "version": "3.11.7"
  }
 },
 "nbformat": 4,
 "nbformat_minor": 5
}
